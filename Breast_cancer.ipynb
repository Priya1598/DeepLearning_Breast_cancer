{
 "cells": [
  {
   "cell_type": "code",
   "execution_count": 91,
   "id": "c0a0232e",
   "metadata": {},
   "outputs": [],
   "source": [
    "import numpy as np\n",
    "import pandas as pd\n",
    "import matplotlib.pyplot as plt\n",
    "import sklearn.datasets\n",
    "from sklearn.model_selection import train_test_split"
   ]
  },
  {
   "cell_type": "code",
   "execution_count": 92,
   "id": "17df043c",
   "metadata": {},
   "outputs": [],
   "source": [
    "breast_cancer_dataset = sklearn.datasets.load_breast_cancer()"
   ]
  },
  {
   "cell_type": "code",
   "execution_count": 93,
   "id": "37edc6de",
   "metadata": {},
   "outputs": [],
   "source": [
    "df = pd.DataFrame(breast_cancer_dataset.data, columns = breast_cancer_dataset.feature_names)"
   ]
  },
  {
   "cell_type": "code",
   "execution_count": 94,
   "id": "66db9322",
   "metadata": {},
   "outputs": [
    {
     "name": "stdout",
     "output_type": "stream",
     "text": [
      "{'data': array([[1.799e+01, 1.038e+01, 1.228e+02, ..., 2.654e-01, 4.601e-01,\n",
      "        1.189e-01],\n",
      "       [2.057e+01, 1.777e+01, 1.329e+02, ..., 1.860e-01, 2.750e-01,\n",
      "        8.902e-02],\n",
      "       [1.969e+01, 2.125e+01, 1.300e+02, ..., 2.430e-01, 3.613e-01,\n",
      "        8.758e-02],\n",
      "       ...,\n",
      "       [1.660e+01, 2.808e+01, 1.083e+02, ..., 1.418e-01, 2.218e-01,\n",
      "        7.820e-02],\n",
      "       [2.060e+01, 2.933e+01, 1.401e+02, ..., 2.650e-01, 4.087e-01,\n",
      "        1.240e-01],\n",
      "       [7.760e+00, 2.454e+01, 4.792e+01, ..., 0.000e+00, 2.871e-01,\n",
      "        7.039e-02]], shape=(569, 30)), 'target': array([0, 0, 0, 0, 0, 0, 0, 0, 0, 0, 0, 0, 0, 0, 0, 0, 0, 0, 0, 1, 1, 1,\n",
      "       0, 0, 0, 0, 0, 0, 0, 0, 0, 0, 0, 0, 0, 0, 0, 1, 0, 0, 0, 0, 0, 0,\n",
      "       0, 0, 1, 0, 1, 1, 1, 1, 1, 0, 0, 1, 0, 0, 1, 1, 1, 1, 0, 1, 0, 0,\n",
      "       1, 1, 1, 1, 0, 1, 0, 0, 1, 0, 1, 0, 0, 1, 1, 1, 0, 0, 1, 0, 0, 0,\n",
      "       1, 1, 1, 0, 1, 1, 0, 0, 1, 1, 1, 0, 0, 1, 1, 1, 1, 0, 1, 1, 0, 1,\n",
      "       1, 1, 1, 1, 1, 1, 1, 0, 0, 0, 1, 0, 0, 1, 1, 1, 0, 0, 1, 0, 1, 0,\n",
      "       0, 1, 0, 0, 1, 1, 0, 1, 1, 0, 1, 1, 1, 1, 0, 1, 1, 1, 1, 1, 1, 1,\n",
      "       1, 1, 0, 1, 1, 1, 1, 0, 0, 1, 0, 1, 1, 0, 0, 1, 1, 0, 0, 1, 1, 1,\n",
      "       1, 0, 1, 1, 0, 0, 0, 1, 0, 1, 0, 1, 1, 1, 0, 1, 1, 0, 0, 1, 0, 0,\n",
      "       0, 0, 1, 0, 0, 0, 1, 0, 1, 0, 1, 1, 0, 1, 0, 0, 0, 0, 1, 1, 0, 0,\n",
      "       1, 1, 1, 0, 1, 1, 1, 1, 1, 0, 0, 1, 1, 0, 1, 1, 0, 0, 1, 0, 1, 1,\n",
      "       1, 1, 0, 1, 1, 1, 1, 1, 0, 1, 0, 0, 0, 0, 0, 0, 0, 0, 0, 0, 0, 0,\n",
      "       0, 0, 1, 1, 1, 1, 1, 1, 0, 1, 0, 1, 1, 0, 1, 1, 0, 1, 0, 0, 1, 1,\n",
      "       1, 1, 1, 1, 1, 1, 1, 1, 1, 1, 1, 0, 1, 1, 0, 1, 0, 1, 1, 1, 1, 1,\n",
      "       1, 1, 1, 1, 1, 1, 1, 1, 1, 0, 1, 1, 1, 0, 1, 0, 1, 1, 1, 1, 0, 0,\n",
      "       0, 1, 1, 1, 1, 0, 1, 0, 1, 0, 1, 1, 1, 0, 1, 1, 1, 1, 1, 1, 1, 0,\n",
      "       0, 0, 1, 1, 1, 1, 1, 1, 1, 1, 1, 1, 1, 0, 0, 1, 0, 0, 0, 1, 0, 0,\n",
      "       1, 1, 1, 1, 1, 0, 1, 1, 1, 1, 1, 0, 1, 1, 1, 0, 1, 1, 0, 0, 1, 1,\n",
      "       1, 1, 1, 1, 0, 1, 1, 1, 1, 1, 1, 1, 0, 1, 1, 1, 1, 1, 0, 1, 1, 0,\n",
      "       1, 1, 1, 1, 1, 1, 1, 1, 1, 1, 1, 1, 0, 1, 0, 0, 1, 0, 1, 1, 1, 1,\n",
      "       1, 0, 1, 1, 0, 1, 0, 1, 1, 0, 1, 0, 1, 1, 1, 1, 1, 1, 1, 1, 0, 0,\n",
      "       1, 1, 1, 1, 1, 1, 0, 1, 1, 1, 1, 1, 1, 1, 1, 1, 1, 0, 1, 1, 1, 1,\n",
      "       1, 1, 1, 0, 1, 0, 1, 1, 0, 1, 1, 1, 1, 1, 0, 0, 1, 0, 1, 0, 1, 1,\n",
      "       1, 1, 1, 0, 1, 1, 0, 1, 0, 1, 0, 0, 1, 1, 1, 0, 1, 1, 1, 1, 1, 1,\n",
      "       1, 1, 1, 1, 1, 0, 1, 0, 0, 1, 1, 1, 1, 1, 1, 1, 1, 1, 1, 1, 1, 1,\n",
      "       1, 1, 1, 1, 1, 1, 1, 1, 1, 1, 1, 1, 0, 0, 0, 0, 0, 0, 1]), 'frame': None, 'target_names': array(['malignant', 'benign'], dtype='<U9'), 'DESCR': '.. _breast_cancer_dataset:\\n\\nBreast cancer Wisconsin (diagnostic) dataset\\n--------------------------------------------\\n\\n**Data Set Characteristics:**\\n\\n:Number of Instances: 569\\n\\n:Number of Attributes: 30 numeric, predictive attributes and the class\\n\\n:Attribute Information:\\n    - radius (mean of distances from center to points on the perimeter)\\n    - texture (standard deviation of gray-scale values)\\n    - perimeter\\n    - area\\n    - smoothness (local variation in radius lengths)\\n    - compactness (perimeter^2 / area - 1.0)\\n    - concavity (severity of concave portions of the contour)\\n    - concave points (number of concave portions of the contour)\\n    - symmetry\\n    - fractal dimension (\"coastline approximation\" - 1)\\n\\n    The mean, standard error, and \"worst\" or largest (mean of the three\\n    worst/largest values) of these features were computed for each image,\\n    resulting in 30 features.  For instance, field 0 is Mean Radius, field\\n    10 is Radius SE, field 20 is Worst Radius.\\n\\n    - class:\\n            - WDBC-Malignant\\n            - WDBC-Benign\\n\\n:Summary Statistics:\\n\\n===================================== ====== ======\\n                                        Min    Max\\n===================================== ====== ======\\nradius (mean):                        6.981  28.11\\ntexture (mean):                       9.71   39.28\\nperimeter (mean):                     43.79  188.5\\narea (mean):                          143.5  2501.0\\nsmoothness (mean):                    0.053  0.163\\ncompactness (mean):                   0.019  0.345\\nconcavity (mean):                     0.0    0.427\\nconcave points (mean):                0.0    0.201\\nsymmetry (mean):                      0.106  0.304\\nfractal dimension (mean):             0.05   0.097\\nradius (standard error):              0.112  2.873\\ntexture (standard error):             0.36   4.885\\nperimeter (standard error):           0.757  21.98\\narea (standard error):                6.802  542.2\\nsmoothness (standard error):          0.002  0.031\\ncompactness (standard error):         0.002  0.135\\nconcavity (standard error):           0.0    0.396\\nconcave points (standard error):      0.0    0.053\\nsymmetry (standard error):            0.008  0.079\\nfractal dimension (standard error):   0.001  0.03\\nradius (worst):                       7.93   36.04\\ntexture (worst):                      12.02  49.54\\nperimeter (worst):                    50.41  251.2\\narea (worst):                         185.2  4254.0\\nsmoothness (worst):                   0.071  0.223\\ncompactness (worst):                  0.027  1.058\\nconcavity (worst):                    0.0    1.252\\nconcave points (worst):               0.0    0.291\\nsymmetry (worst):                     0.156  0.664\\nfractal dimension (worst):            0.055  0.208\\n===================================== ====== ======\\n\\n:Missing Attribute Values: None\\n\\n:Class Distribution: 212 - Malignant, 357 - Benign\\n\\n:Creator:  Dr. William H. Wolberg, W. Nick Street, Olvi L. Mangasarian\\n\\n:Donor: Nick Street\\n\\n:Date: November, 1995\\n\\nThis is a copy of UCI ML Breast Cancer Wisconsin (Diagnostic) datasets.\\nhttps://goo.gl/U2Uwz2\\n\\nFeatures are computed from a digitized image of a fine needle\\naspirate (FNA) of a breast mass.  They describe\\ncharacteristics of the cell nuclei present in the image.\\n\\nSeparating plane described above was obtained using\\nMultisurface Method-Tree (MSM-T) [K. P. Bennett, \"Decision Tree\\nConstruction Via Linear Programming.\" Proceedings of the 4th\\nMidwest Artificial Intelligence and Cognitive Science Society,\\npp. 97-101, 1992], a classification method which uses linear\\nprogramming to construct a decision tree.  Relevant features\\nwere selected using an exhaustive search in the space of 1-4\\nfeatures and 1-3 separating planes.\\n\\nThe actual linear program used to obtain the separating plane\\nin the 3-dimensional space is that described in:\\n[K. P. Bennett and O. L. Mangasarian: \"Robust Linear\\nProgramming Discrimination of Two Linearly Inseparable Sets\",\\nOptimization Methods and Software 1, 1992, 23-34].\\n\\nThis database is also available through the UW CS ftp server:\\n\\nftp ftp.cs.wisc.edu\\ncd math-prog/cpo-dataset/machine-learn/WDBC/\\n\\n.. dropdown:: References\\n\\n  - W.N. Street, W.H. Wolberg and O.L. Mangasarian. Nuclear feature extraction\\n    for breast tumor diagnosis. IS&T/SPIE 1993 International Symposium on\\n    Electronic Imaging: Science and Technology, volume 1905, pages 861-870,\\n    San Jose, CA, 1993.\\n  - O.L. Mangasarian, W.N. Street and W.H. Wolberg. Breast cancer diagnosis and\\n    prognosis via linear programming. Operations Research, 43(4), pages 570-577,\\n    July-August 1995.\\n  - W.H. Wolberg, W.N. Street, and O.L. Mangasarian. Machine learning techniques\\n    to diagnose breast cancer from fine-needle aspirates. Cancer Letters 77 (1994)\\n    163-171.\\n', 'feature_names': array(['mean radius', 'mean texture', 'mean perimeter', 'mean area',\n",
      "       'mean smoothness', 'mean compactness', 'mean concavity',\n",
      "       'mean concave points', 'mean symmetry', 'mean fractal dimension',\n",
      "       'radius error', 'texture error', 'perimeter error', 'area error',\n",
      "       'smoothness error', 'compactness error', 'concavity error',\n",
      "       'concave points error', 'symmetry error',\n",
      "       'fractal dimension error', 'worst radius', 'worst texture',\n",
      "       'worst perimeter', 'worst area', 'worst smoothness',\n",
      "       'worst compactness', 'worst concavity', 'worst concave points',\n",
      "       'worst symmetry', 'worst fractal dimension'], dtype='<U23'), 'filename': 'breast_cancer.csv', 'data_module': 'sklearn.datasets.data'}\n",
      "<class 'pandas.core.frame.DataFrame'>\n",
      "RangeIndex: 569 entries, 0 to 568\n",
      "Data columns (total 31 columns):\n",
      " #   Column                   Non-Null Count  Dtype  \n",
      "---  ------                   --------------  -----  \n",
      " 0   mean radius              569 non-null    float64\n",
      " 1   mean texture             569 non-null    float64\n",
      " 2   mean perimeter           569 non-null    float64\n",
      " 3   mean area                569 non-null    float64\n",
      " 4   mean smoothness          569 non-null    float64\n",
      " 5   mean compactness         569 non-null    float64\n",
      " 6   mean concavity           569 non-null    float64\n",
      " 7   mean concave points      569 non-null    float64\n",
      " 8   mean symmetry            569 non-null    float64\n",
      " 9   mean fractal dimension   569 non-null    float64\n",
      " 10  radius error             569 non-null    float64\n",
      " 11  texture error            569 non-null    float64\n",
      " 12  perimeter error          569 non-null    float64\n",
      " 13  area error               569 non-null    float64\n",
      " 14  smoothness error         569 non-null    float64\n",
      " 15  compactness error        569 non-null    float64\n",
      " 16  concavity error          569 non-null    float64\n",
      " 17  concave points error     569 non-null    float64\n",
      " 18  symmetry error           569 non-null    float64\n",
      " 19  fractal dimension error  569 non-null    float64\n",
      " 20  worst radius             569 non-null    float64\n",
      " 21  worst texture            569 non-null    float64\n",
      " 22  worst perimeter          569 non-null    float64\n",
      " 23  worst area               569 non-null    float64\n",
      " 24  worst smoothness         569 non-null    float64\n",
      " 25  worst compactness        569 non-null    float64\n",
      " 26  worst concavity          569 non-null    float64\n",
      " 27  worst concave points     569 non-null    float64\n",
      " 28  worst symmetry           569 non-null    float64\n",
      " 29  worst fractal dimension  569 non-null    float64\n",
      " 30  label                    569 non-null    int64  \n",
      "dtypes: float64(30), int64(1)\n",
      "memory usage: 137.9 KB\n"
     ]
    },
    {
     "data": {
      "text/html": [
       "<div>\n",
       "<style scoped>\n",
       "    .dataframe tbody tr th:only-of-type {\n",
       "        vertical-align: middle;\n",
       "    }\n",
       "\n",
       "    .dataframe tbody tr th {\n",
       "        vertical-align: top;\n",
       "    }\n",
       "\n",
       "    .dataframe thead th {\n",
       "        text-align: right;\n",
       "    }\n",
       "</style>\n",
       "<table border=\"1\" class=\"dataframe\">\n",
       "  <thead>\n",
       "    <tr style=\"text-align: right;\">\n",
       "      <th></th>\n",
       "      <th>mean radius</th>\n",
       "      <th>mean texture</th>\n",
       "      <th>mean perimeter</th>\n",
       "      <th>mean area</th>\n",
       "      <th>mean smoothness</th>\n",
       "      <th>mean compactness</th>\n",
       "      <th>mean concavity</th>\n",
       "      <th>mean concave points</th>\n",
       "      <th>mean symmetry</th>\n",
       "      <th>mean fractal dimension</th>\n",
       "      <th>...</th>\n",
       "      <th>worst radius</th>\n",
       "      <th>worst texture</th>\n",
       "      <th>worst perimeter</th>\n",
       "      <th>worst area</th>\n",
       "      <th>worst smoothness</th>\n",
       "      <th>worst compactness</th>\n",
       "      <th>worst concavity</th>\n",
       "      <th>worst concave points</th>\n",
       "      <th>worst symmetry</th>\n",
       "      <th>worst fractal dimension</th>\n",
       "    </tr>\n",
       "    <tr>\n",
       "      <th>label</th>\n",
       "      <th></th>\n",
       "      <th></th>\n",
       "      <th></th>\n",
       "      <th></th>\n",
       "      <th></th>\n",
       "      <th></th>\n",
       "      <th></th>\n",
       "      <th></th>\n",
       "      <th></th>\n",
       "      <th></th>\n",
       "      <th></th>\n",
       "      <th></th>\n",
       "      <th></th>\n",
       "      <th></th>\n",
       "      <th></th>\n",
       "      <th></th>\n",
       "      <th></th>\n",
       "      <th></th>\n",
       "      <th></th>\n",
       "      <th></th>\n",
       "      <th></th>\n",
       "    </tr>\n",
       "  </thead>\n",
       "  <tbody>\n",
       "    <tr>\n",
       "      <th>0</th>\n",
       "      <td>17.462830</td>\n",
       "      <td>21.604906</td>\n",
       "      <td>115.365377</td>\n",
       "      <td>978.376415</td>\n",
       "      <td>0.102898</td>\n",
       "      <td>0.145188</td>\n",
       "      <td>0.160775</td>\n",
       "      <td>0.087990</td>\n",
       "      <td>0.192909</td>\n",
       "      <td>0.062680</td>\n",
       "      <td>...</td>\n",
       "      <td>21.134811</td>\n",
       "      <td>29.318208</td>\n",
       "      <td>141.370330</td>\n",
       "      <td>1422.286321</td>\n",
       "      <td>0.144845</td>\n",
       "      <td>0.374824</td>\n",
       "      <td>0.450606</td>\n",
       "      <td>0.182237</td>\n",
       "      <td>0.323468</td>\n",
       "      <td>0.091530</td>\n",
       "    </tr>\n",
       "    <tr>\n",
       "      <th>1</th>\n",
       "      <td>12.146524</td>\n",
       "      <td>17.914762</td>\n",
       "      <td>78.075406</td>\n",
       "      <td>462.790196</td>\n",
       "      <td>0.092478</td>\n",
       "      <td>0.080085</td>\n",
       "      <td>0.046058</td>\n",
       "      <td>0.025717</td>\n",
       "      <td>0.174186</td>\n",
       "      <td>0.062867</td>\n",
       "      <td>...</td>\n",
       "      <td>13.379801</td>\n",
       "      <td>23.515070</td>\n",
       "      <td>87.005938</td>\n",
       "      <td>558.899440</td>\n",
       "      <td>0.124959</td>\n",
       "      <td>0.182673</td>\n",
       "      <td>0.166238</td>\n",
       "      <td>0.074444</td>\n",
       "      <td>0.270246</td>\n",
       "      <td>0.079442</td>\n",
       "    </tr>\n",
       "  </tbody>\n",
       "</table>\n",
       "<p>2 rows × 30 columns</p>\n",
       "</div>"
      ],
      "text/plain": [
       "       mean radius  mean texture  mean perimeter   mean area  mean smoothness  \\\n",
       "label                                                                           \n",
       "0        17.462830     21.604906      115.365377  978.376415         0.102898   \n",
       "1        12.146524     17.914762       78.075406  462.790196         0.092478   \n",
       "\n",
       "       mean compactness  mean concavity  mean concave points  mean symmetry  \\\n",
       "label                                                                         \n",
       "0              0.145188        0.160775             0.087990       0.192909   \n",
       "1              0.080085        0.046058             0.025717       0.174186   \n",
       "\n",
       "       mean fractal dimension  ...  worst radius  worst texture  \\\n",
       "label                          ...                                \n",
       "0                    0.062680  ...     21.134811      29.318208   \n",
       "1                    0.062867  ...     13.379801      23.515070   \n",
       "\n",
       "       worst perimeter   worst area  worst smoothness  worst compactness  \\\n",
       "label                                                                      \n",
       "0           141.370330  1422.286321          0.144845           0.374824   \n",
       "1            87.005938   558.899440          0.124959           0.182673   \n",
       "\n",
       "       worst concavity  worst concave points  worst symmetry  \\\n",
       "label                                                          \n",
       "0             0.450606              0.182237        0.323468   \n",
       "1             0.166238              0.074444        0.270246   \n",
       "\n",
       "       worst fractal dimension  \n",
       "label                           \n",
       "0                     0.091530  \n",
       "1                     0.079442  \n",
       "\n",
       "[2 rows x 30 columns]"
      ]
     },
     "execution_count": 94,
     "metadata": {},
     "output_type": "execute_result"
    }
   ],
   "source": [
    "print(breast_cancer_dataset)\n",
    "df['label']=breast_cancer_dataset.target\n",
    "df.shape\n",
    "df.info()\n",
    "df.isnull().sum()\n",
    "df.describe()\n",
    "df['label'].value_counts()\n",
    "df.groupby('label').mean()\n"
   ]
  },
  {
   "cell_type": "code",
   "execution_count": 95,
   "id": "f0ab476c",
   "metadata": {},
   "outputs": [
    {
     "name": "stdout",
     "output_type": "stream",
     "text": [
      "X_train: (455, 30)\n",
      "Y_train: (114, 30)\n"
     ]
    }
   ],
   "source": [
    "X=df.drop(['label'],axis=1)\n",
    "Y= df['label']\n",
    "X_train,Y_train,X_test,Y_test = train_test_split(X,Y, test_size=0.2,random_state=42)\n",
    "print(\"X_train:\", X_train.shape)\n",
    "print(\"Y_train:\", Y_train.shape)\n"
   ]
  },
  {
   "cell_type": "code",
   "execution_count": 96,
   "id": "6254dabf",
   "metadata": {},
   "outputs": [],
   "source": [
    "mask = ~np.isnan(X).any(axis=1)\n",
    "X = X[mask]\n",
    "Y = Y[mask]\n"
   ]
  },
  {
   "cell_type": "code",
   "execution_count": 97,
   "id": "5a4e8eaf",
   "metadata": {},
   "outputs": [],
   "source": [
    "import tensorflow as tf\n",
    "tf.random.set_seed(3)"
   ]
  },
  {
   "cell_type": "code",
   "execution_count": 98,
   "id": "6a4f7813",
   "metadata": {},
   "outputs": [],
   "source": [
    "from tensorflow import keras"
   ]
  },
  {
   "cell_type": "code",
   "execution_count": 99,
   "id": "077a6663",
   "metadata": {},
   "outputs": [],
   "source": [
    "# model=keras.Sequential([keras.layers.Flatten(input_shape=(30,)),\n",
    "#                         keras.layers.Dense(20,activation='relu'),\n",
    "#                         keras.layers.Dense(2,activation='sigmoid')])"
   ]
  },
  {
   "cell_type": "code",
   "execution_count": 100,
   "id": "656db7e3",
   "metadata": {},
   "outputs": [],
   "source": [
    "# # Compiling the Neural Network\n",
    "# model.compile(optimizer='adam',\n",
    "#               loss='sparse_categorical_crossentropy',\n",
    "#               metrics=['accuracy'])\n",
    "#   ### for integer output(label encoding(0,1,2 in DL we use sparse categorical cross entropy,for one hot encoding in DL we use Categorical entropy"
   ]
  },
  {
   "cell_type": "code",
   "execution_count": 101,
   "id": "463e0ad5",
   "metadata": {},
   "outputs": [
    {
     "name": "stdout",
     "output_type": "stream",
     "text": [
      "X_train type: <class 'pandas.core.frame.DataFrame'>\n",
      "Y_train type: <class 'pandas.core.frame.DataFrame'>\n",
      "X_train shape: (455, 30)\n",
      "Y_train shape: (114, 30)\n",
      "Length of X_train: 455\n",
      "Length of Y_train: 114\n"
     ]
    }
   ],
   "source": [
    "print(\"X_train type:\", type(X_train))\n",
    "print(\"Y_train type:\", type(Y_train))\n",
    "\n",
    "print(\"X_train shape:\", np.shape(X_train))\n",
    "print(\"Y_train shape:\", np.shape(Y_train))\n",
    "print(\"Length of X_train:\", len(X_train))\n",
    "print(\"Length of Y_train:\", len(Y_train))\n"
   ]
  },
  {
   "cell_type": "code",
   "execution_count": 102,
   "id": "cf3eac7a",
   "metadata": {},
   "outputs": [],
   "source": [
    "X_train, X_test = train_test_split(X, test_size=0.2)\n",
    "Y_train, Y_test = train_test_split(Y, test_size=0.2)\n"
   ]
  },
  {
   "cell_type": "code",
   "execution_count": 103,
   "id": "214b7c00",
   "metadata": {},
   "outputs": [],
   "source": [
    "from sklearn.model_selection import train_test_split\n",
    "\n",
    "X_train, X_test, Y_train, Y_test = train_test_split(\n",
    "    X, Y, test_size=0.2, random_state=42, shuffle=True\n",
    ")\n"
   ]
  },
  {
   "cell_type": "code",
   "execution_count": 104,
   "id": "a165f44c",
   "metadata": {},
   "outputs": [],
   "source": [
    "##Standardize the Data\n",
    "\n",
    "from sklearn.preprocessing import StandardScaler"
   ]
  },
  {
   "cell_type": "code",
   "execution_count": 105,
   "id": "a301c0f6",
   "metadata": {},
   "outputs": [],
   "source": [
    "scaler=StandardScaler()\n",
    "X_train_std=scaler.fit_transform(X_train)\n",
    "X_test_std=scaler.transform(X_test)"
   ]
  },
  {
   "cell_type": "code",
   "execution_count": 106,
   "id": "adcbbb3a",
   "metadata": {},
   "outputs": [
    {
     "name": "stdout",
     "output_type": "stream",
     "text": [
      "[[-1.44075296 -0.43531947 -1.36208497 ...  0.9320124   2.09724217\n",
      "   1.88645014]\n",
      " [ 1.97409619  1.73302577  2.09167167 ...  2.6989469   1.89116053\n",
      "   2.49783848]\n",
      " [-1.39998202 -1.24962228 -1.34520926 ... -0.97023893  0.59760192\n",
      "   0.0578942 ]\n",
      " ...\n",
      " [ 0.04880192 -0.55500086 -0.06512547 ... -1.23903365 -0.70863864\n",
      "  -1.27145475]\n",
      " [-0.03896885  0.10207345 -0.03137406 ...  1.05001236  0.43432185\n",
      "   1.21336207]\n",
      " [-0.54860557  0.31327591 -0.60350155 ... -0.61102866 -0.3345212\n",
      "  -0.84628745]]\n",
      "[[-0.46649743 -0.13728933 -0.44421138 ... -0.19435087  0.17275669\n",
      "   0.20372995]\n",
      " [ 1.36536344  0.49866473  1.30551088 ...  0.99177862 -0.561211\n",
      "  -1.00838949]\n",
      " [ 0.38006578  0.06921974  0.40410139 ...  0.57035018 -0.10783139\n",
      "  -0.20629287]\n",
      " ...\n",
      " [-0.73547237 -0.99852603 -0.74138839 ... -0.27741059 -0.3820785\n",
      "  -0.32408328]\n",
      " [ 0.02898271  2.0334026   0.0274851  ... -0.49027026 -1.60905688\n",
      "  -0.33137507]\n",
      " [ 1.87216885  2.80077153  1.80354992 ...  0.7925579  -0.05868885\n",
      "  -0.09467243]]\n"
     ]
    }
   ],
   "source": [
    "print(X_train_std)\n",
    "print(X_test_std)"
   ]
  },
  {
   "cell_type": "code",
   "execution_count": 107,
   "id": "4b6febd7",
   "metadata": {},
   "outputs": [
    {
     "name": "stdout",
     "output_type": "stream",
     "text": [
      "(455, 30) (455,)\n"
     ]
    }
   ],
   "source": [
    "print(X_train.shape, Y_train.shape)\n"
   ]
  },
  {
   "cell_type": "code",
   "execution_count": 108,
   "id": "59e1a4c4",
   "metadata": {},
   "outputs": [
    {
     "name": "stderr",
     "output_type": "stream",
     "text": [
      "c:\\Users\\priya\\AppData\\Local\\Programs\\Python\\Python310\\lib\\site-packages\\keras\\src\\layers\\reshaping\\flatten.py:37: UserWarning: Do not pass an `input_shape`/`input_dim` argument to a layer. When using Sequential models, prefer using an `Input(shape)` object as the first layer in the model instead.\n",
      "  super().__init__(**kwargs)\n"
     ]
    }
   ],
   "source": [
    "model=keras.Sequential([keras.layers.Flatten(input_shape=(30,)),\n",
    "                        keras.layers.Dense(20,activation='relu'),\n",
    "                        keras.layers.Dense(2,activation='sigmoid')])"
   ]
  },
  {
   "cell_type": "code",
   "execution_count": 109,
   "id": "652d2c0f",
   "metadata": {},
   "outputs": [],
   "source": [
    "# Compiling the Neural Network\n",
    "model.compile(optimizer='adam',\n",
    "              loss='sparse_categorical_crossentropy',\n",
    "              metrics=['accuracy'])"
   ]
  },
  {
   "cell_type": "code",
   "execution_count": 111,
   "id": "51adbf98",
   "metadata": {},
   "outputs": [
    {
     "name": "stdout",
     "output_type": "stream",
     "text": [
      "Epoch 1/10\n",
      "\u001b[1m13/13\u001b[0m \u001b[32m━━━━━━━━━━━━━━━━━━━━\u001b[0m\u001b[37m\u001b[0m \u001b[1m0s\u001b[0m 25ms/step - accuracy: 0.8337 - loss: 0.4659 - val_accuracy: 0.8696 - val_loss: 0.3522\n",
      "Epoch 2/10\n",
      "\u001b[1m13/13\u001b[0m \u001b[32m━━━━━━━━━━━━━━━━━━━━\u001b[0m\u001b[37m\u001b[0m \u001b[1m0s\u001b[0m 15ms/step - accuracy: 0.8949 - loss: 0.3014 - val_accuracy: 0.8696 - val_loss: 0.2442\n",
      "Epoch 3/10\n",
      "\u001b[1m13/13\u001b[0m \u001b[32m━━━━━━━━━━━━━━━━━━━━\u001b[0m\u001b[37m\u001b[0m \u001b[1m0s\u001b[0m 21ms/step - accuracy: 0.9291 - loss: 0.2296 - val_accuracy: 0.8696 - val_loss: 0.2019\n",
      "Epoch 4/10\n",
      "\u001b[1m13/13\u001b[0m \u001b[32m━━━━━━━━━━━━━━━━━━━━\u001b[0m\u001b[37m\u001b[0m \u001b[1m0s\u001b[0m 18ms/step - accuracy: 0.9340 - loss: 0.1894 - val_accuracy: 0.9130 - val_loss: 0.1790\n",
      "Epoch 5/10\n",
      "\u001b[1m13/13\u001b[0m \u001b[32m━━━━━━━━━━━━━━━━━━━━\u001b[0m\u001b[37m\u001b[0m \u001b[1m0s\u001b[0m 20ms/step - accuracy: 0.9487 - loss: 0.1622 - val_accuracy: 0.9130 - val_loss: 0.1642\n",
      "Epoch 6/10\n",
      "\u001b[1m13/13\u001b[0m \u001b[32m━━━━━━━━━━━━━━━━━━━━\u001b[0m\u001b[37m\u001b[0m \u001b[1m0s\u001b[0m 16ms/step - accuracy: 0.9560 - loss: 0.1430 - val_accuracy: 0.9130 - val_loss: 0.1531\n",
      "Epoch 7/10\n",
      "\u001b[1m13/13\u001b[0m \u001b[32m━━━━━━━━━━━━━━━━━━━━\u001b[0m\u001b[37m\u001b[0m \u001b[1m0s\u001b[0m 20ms/step - accuracy: 0.9658 - loss: 0.1286 - val_accuracy: 0.9130 - val_loss: 0.1443\n",
      "Epoch 8/10\n",
      "\u001b[1m13/13\u001b[0m \u001b[32m━━━━━━━━━━━━━━━━━━━━\u001b[0m\u001b[37m\u001b[0m \u001b[1m0s\u001b[0m 21ms/step - accuracy: 0.9633 - loss: 0.1174 - val_accuracy: 0.9130 - val_loss: 0.1370\n",
      "Epoch 9/10\n",
      "\u001b[1m13/13\u001b[0m \u001b[32m━━━━━━━━━━━━━━━━━━━━\u001b[0m\u001b[37m\u001b[0m \u001b[1m0s\u001b[0m 21ms/step - accuracy: 0.9682 - loss: 0.1084 - val_accuracy: 0.9130 - val_loss: 0.1311\n",
      "Epoch 10/10\n",
      "\u001b[1m13/13\u001b[0m \u001b[32m━━━━━━━━━━━━━━━━━━━━\u001b[0m\u001b[37m\u001b[0m \u001b[1m0s\u001b[0m 18ms/step - accuracy: 0.9707 - loss: 0.1011 - val_accuracy: 0.9348 - val_loss: 0.1265\n"
     ]
    }
   ],
   "source": [
    "# training the neural network\n",
    "history = model.fit(X_train_std,Y_train,validation_split=0.1, epochs=10)  # epoch = how many time the data has to go through itself (run 10 times)"
   ]
  },
  {
   "cell_type": "code",
   "execution_count": 115,
   "id": "2474448b",
   "metadata": {},
   "outputs": [
    {
     "data": {
      "text/plain": [
       "<matplotlib.legend.Legend at 0x2dba8133010>"
      ]
     },
     "execution_count": 115,
     "metadata": {},
     "output_type": "execute_result"
    },
    {
     "data": {
      "image/png": "[encoded data removed]",
      "text/plain": [
       "<Figure size 640x480 with 1 Axes>"
      ]
     },
     "metadata": {},
     "output_type": "display_data"
    }
   ],
   "source": [
    "##Visualising the Accuracy and loss\n",
    "plt.plot(history.history['accuracy'])\n",
    "plt.plot(history.history['val_accuracy'])\n",
    "plt.title('Model Accuracy')\n",
    "plt.xlabel('epoch')\n",
    "plt.ylabel('Accuracy')\n",
    "plt.legend(['training_data','Validation_data'],loc=\"lower right\")"
   ]
  },
  {
   "cell_type": "code",
   "execution_count": 116,
   "id": "3f41b950",
   "metadata": {},
   "outputs": [
    {
     "data": {
      "text/plain": [
       "<matplotlib.legend.Legend at 0x2dba817ee90>"
      ]
     },
     "execution_count": 116,
     "metadata": {},
     "output_type": "execute_result"
    },
    {
     "data": {
      "image/png": "[encoded data removed]",
      "text/plain": [
       "<Figure size 640x480 with 1 Axes>"
      ]
     },
     "metadata": {},
     "output_type": "display_data"
    }
   ],
   "source": [
    "##Visualising the Accuracy and loss\n",
    "plt.plot(history.history['loss'])\n",
    "plt.plot(history.history['val_loss'])\n",
    "plt.title('Model loss')\n",
    "plt.xlabel('epoch')\n",
    "plt.ylabel('loss')\n",
    "plt.legend(['training_data','Validation_data'],loc=\"upper right\")"
   ]
  },
  {
   "cell_type": "code",
   "execution_count": 117,
   "id": "b6d1980c",
   "metadata": {},
   "outputs": [
    {
     "name": "stdout",
     "output_type": "stream",
     "text": [
      "\u001b[1m4/4\u001b[0m \u001b[32m━━━━━━━━━━━━━━━━━━━━\u001b[0m\u001b[37m\u001b[0m \u001b[1m1s\u001b[0m 70ms/step - accuracy: 0.9737 - loss: 0.0992\n",
      "0.9736841917037964\n"
     ]
    }
   ],
   "source": [
    "##Accuracy model on the test data\n",
    "loss,accuracy= model.evaluate(X_test_std,Y_test)\n",
    "print(accuracy)"
   ]
  },
  {
   "cell_type": "code",
   "execution_count": 120,
   "id": "42b1a89c",
   "metadata": {},
   "outputs": [
    {
     "name": "stdout",
     "output_type": "stream",
     "text": [
      "(114, 30)\n",
      "[-0.46649743 -0.13728933 -0.44421138 -0.48646498  0.28085007  0.04160589\n",
      " -0.11146496 -0.26486866  0.41524141  0.13513744 -0.02091509 -0.29323907\n",
      " -0.17460869 -0.2072995  -0.01181432 -0.35108921 -0.1810535  -0.24238831\n",
      " -0.33731758 -0.0842133  -0.2632354  -0.14784208 -0.33154752 -0.35109337\n",
      "  0.48001942 -0.09649594 -0.03583041 -0.19435087  0.17275669  0.20372995]\n"
     ]
    }
   ],
   "source": [
    "print(X_test_std.shape)\n",
    "print(X_test_std[0])"
   ]
  },
  {
   "cell_type": "code",
   "execution_count": 121,
   "id": "cd96fe27",
   "metadata": {},
   "outputs": [
    {
     "name": "stdout",
     "output_type": "stream",
     "text": [
      "\u001b[1m4/4\u001b[0m \u001b[32m━━━━━━━━━━━━━━━━━━━━\u001b[0m\u001b[37m\u001b[0m \u001b[1m1s\u001b[0m 141ms/step\n"
     ]
    }
   ],
   "source": [
    "Y_pred=model.predict(X_test_std)"
   ]
  },
  {
   "cell_type": "code",
   "execution_count": 122,
   "id": "880503bc",
   "metadata": {},
   "outputs": [
    {
     "name": "stdout",
     "output_type": "stream",
     "text": [
      "(114, 2)\n",
      "[0.30707324 0.7767975 ]\n"
     ]
    }
   ],
   "source": [
    "print(Y_pred.shape)\n",
    "print(Y_pred[0])"
   ]
  },
  {
   "cell_type": "code",
   "execution_count": null,
   "id": "d8ff238c",
   "metadata": {},
   "outputs": [],
   "source": [
    "## here 30% chances of being 0 class and 77% of being 1 class"
   ]
  },
  {
   "cell_type": "code",
   "execution_count": 123,
   "id": "9765c98f",
   "metadata": {},
   "outputs": [
    {
     "name": "stdout",
     "output_type": "stream",
     "text": [
      "[[-0.46649743 -0.13728933 -0.44421138 ... -0.19435087  0.17275669\n",
      "   0.20372995]\n",
      " [ 1.36536344  0.49866473  1.30551088 ...  0.99177862 -0.561211\n",
      "  -1.00838949]\n",
      " [ 0.38006578  0.06921974  0.40410139 ...  0.57035018 -0.10783139\n",
      "  -0.20629287]\n",
      " ...\n",
      " [-0.73547237 -0.99852603 -0.74138839 ... -0.27741059 -0.3820785\n",
      "  -0.32408328]\n",
      " [ 0.02898271  2.0334026   0.0274851  ... -0.49027026 -1.60905688\n",
      "  -0.33137507]\n",
      " [ 1.87216885  2.80077153  1.80354992 ...  0.7925579  -0.05868885\n",
      "  -0.09467243]]\n"
     ]
    }
   ],
   "source": [
    "print(X_test_std)"
   ]
  },
  {
   "cell_type": "code",
   "execution_count": 124,
   "id": "77291cbb",
   "metadata": {},
   "outputs": [
    {
     "name": "stdout",
     "output_type": "stream",
     "text": [
      "[[0.30707324 0.7767975 ]\n",
      " [0.9445486  0.42652032]\n",
      " [0.8468926  0.18875436]\n",
      " [0.17860559 0.9294625 ]\n",
      " [0.15810381 0.9622666 ]\n",
      " [0.99586433 0.01002416]\n",
      " [0.99680203 0.10952041]\n",
      " [0.8113812  0.4687424 ]\n",
      " [0.7069682  0.409347  ]\n",
      " [0.09940124 0.92708534]\n",
      " [0.15640855 0.5851172 ]\n",
      " [0.77802306 0.43722513]\n",
      " [0.17412746 0.7444892 ]\n",
      " [0.770532   0.63401484]\n",
      " [0.14837961 0.9273206 ]\n",
      " [0.9133619  0.3762818 ]\n",
      " [0.15914507 0.95517796]\n",
      " [0.02674311 0.9794475 ]\n",
      " [0.00992133 0.99708486]\n",
      " [0.9849151  0.16545366]\n",
      " [0.4440026  0.7068959 ]\n",
      " [0.18931288 0.7988605 ]\n",
      " [0.9955403  0.03042364]\n",
      " [0.02151287 0.9620088 ]\n",
      " [0.02811581 0.8414272 ]\n",
      " [0.46399447 0.951771  ]\n",
      " [0.17712745 0.93522704]\n",
      " [0.05793962 0.8243356 ]\n",
      " [0.13617702 0.89849776]\n",
      " [0.84621024 0.04162642]\n",
      " [0.04535028 0.88271075]\n",
      " [0.09018783 0.9694872 ]\n",
      " [0.03086799 0.97792447]\n",
      " [0.15560707 0.9254241 ]\n",
      " [0.03706866 0.9817859 ]\n",
      " [0.06500328 0.96607333]\n",
      " [0.30989367 0.32722995]\n",
      " [0.04776749 0.9674891 ]\n",
      " [0.87091523 0.18827106]\n",
      " [0.19295822 0.6855161 ]\n",
      " [0.04170238 0.9749167 ]\n",
      " [0.769239   0.378691  ]\n",
      " [0.20998767 0.94413024]\n",
      " [0.09431998 0.9401698 ]\n",
      " [0.52827775 0.88480663]\n",
      " [0.16152509 0.8966677 ]\n",
      " [0.06496257 0.99249697]\n",
      " [0.01439462 0.715212  ]\n",
      " [0.17639123 0.75761473]\n",
      " [0.30032095 0.93583035]\n",
      " [0.83139914 0.15718849]\n",
      " [0.9781558  0.07805241]\n",
      " [0.22085163 0.43236402]\n",
      " [0.6282814  0.687261  ]\n",
      " [0.08726131 0.98663306]\n",
      " [0.19272594 0.90899926]\n",
      " [0.07874084 0.9728735 ]\n",
      " [0.9995196  0.0555453 ]\n",
      " [0.6526371  0.29426244]\n",
      " [0.09260291 0.984438  ]\n",
      " [0.16851738 0.84091973]\n",
      " [0.9872179  0.07289938]\n",
      " [0.99760044 0.27689448]\n",
      " [0.17004985 0.7375163 ]\n",
      " [0.07592286 0.90914977]\n",
      " [0.23811097 0.5828749 ]\n",
      " [0.90910333 0.06407328]\n",
      " [0.99749565 0.02578851]\n",
      " [0.08515249 0.8104149 ]\n",
      " [0.23113123 0.8620705 ]\n",
      " [0.75440574 0.29229903]\n",
      " [0.77096015 0.10179143]\n",
      " [0.229632   0.8183814 ]\n",
      " [0.8573495  0.16545717]\n",
      " [0.00357568 0.9800159 ]\n",
      " [0.3502192  0.86526966]\n",
      " [0.18577996 0.75471973]\n",
      " [0.59495306 0.43744254]\n",
      " [0.07289848 0.96743643]\n",
      " [0.37105358 0.85188395]\n",
      " [0.66864085 0.16426376]\n",
      " [0.05739227 0.969758  ]\n",
      " [0.6664106  0.45315477]\n",
      " [0.98916656 0.12059144]\n",
      " [0.6349379  0.46104312]\n",
      " [0.9552383  0.136338  ]\n",
      " [0.78688985 0.01838046]\n",
      " [0.9059613  0.2418773 ]\n",
      " [0.08584856 0.8936262 ]\n",
      " [0.23075444 0.89731735]\n",
      " [0.21543398 0.82606095]\n",
      " [0.3952913  0.5376381 ]\n",
      " [0.43970162 0.81064737]\n",
      " [0.03023114 0.40876123]\n",
      " [0.02438957 0.93193185]\n",
      " [0.04263352 0.9874877 ]\n",
      " [0.96821237 0.27975786]\n",
      " [0.8118495  0.02604666]\n",
      " [0.07301627 0.9912224 ]\n",
      " [0.8737179  0.38741085]\n",
      " [0.5073805  0.16558841]\n",
      " [0.02397691 0.99592507]\n",
      " [0.9737225  0.09086265]\n",
      " [0.9159109  0.21413054]\n",
      " [0.03568111 0.7664377 ]\n",
      " [0.19257723 0.6895337 ]\n",
      " [0.11704438 0.8691131 ]\n",
      " [0.99625176 0.20328516]\n",
      " [0.46542192 0.725369  ]\n",
      " [0.29571453 0.6581173 ]\n",
      " [0.8889185  0.37183785]\n",
      " [0.15456577 0.9471186 ]\n",
      " [0.29735193 0.4265258 ]\n",
      " [0.9773396  0.08234046]]\n"
     ]
    }
   ],
   "source": [
    "print(Y_pred)"
   ]
  },
  {
   "cell_type": "code",
   "execution_count": null,
   "id": "bdd3cf25",
   "metadata": {},
   "outputs": [],
   "source": [
    "## here Those 2 class gives the probablity of 0 and 1 classes. if first 0.30 is leass than 0.77 then it belongs to class 1"
   ]
  },
  {
   "cell_type": "code",
   "execution_count": null,
   "id": "88511589",
   "metadata": {},
   "outputs": [],
   "source": [
    "## model.predict() gives the prediction probablity of each class for that data point"
   ]
  },
  {
   "cell_type": "code",
   "execution_count": 129,
   "id": "1f3b9474",
   "metadata": {},
   "outputs": [
    {
     "name": "stdout",
     "output_type": "stream",
     "text": [
      "[10, 20, 30]\n",
      "2\n"
     ]
    }
   ],
   "source": [
    "## converting the predicition probabality to class labels\n",
    "#Argmax function\n",
    "my_list=[10,20,30]\n",
    "a=np.argmax(my_list)\n",
    "print(my_list)\n",
    "print(a)\n",
    "# here index of highest value 30 is 2"
   ]
  },
  {
   "cell_type": "code",
   "execution_count": 130,
   "id": "89dedf60",
   "metadata": {},
   "outputs": [
    {
     "name": "stdout",
     "output_type": "stream",
     "text": [
      "[0.25, 0.56]\n",
      "1\n"
     ]
    }
   ],
   "source": [
    "my_list=[0.25,0.56]\n",
    "a=np.argmax(my_list)\n",
    "print(my_list)\n",
    "print(a)"
   ]
  },
  {
   "cell_type": "code",
   "execution_count": 132,
   "id": "e80ac9c6",
   "metadata": {},
   "outputs": [
    {
     "name": "stdout",
     "output_type": "stream",
     "text": [
      "[np.int64(1), np.int64(0), np.int64(0), np.int64(1), np.int64(1), np.int64(0), np.int64(0), np.int64(0), np.int64(0), np.int64(1), np.int64(1), np.int64(0), np.int64(1), np.int64(0), np.int64(1), np.int64(0), np.int64(1), np.int64(1), np.int64(1), np.int64(0), np.int64(1), np.int64(1), np.int64(0), np.int64(1), np.int64(1), np.int64(1), np.int64(1), np.int64(1), np.int64(1), np.int64(0), np.int64(1), np.int64(1), np.int64(1), np.int64(1), np.int64(1), np.int64(1), np.int64(1), np.int64(1), np.int64(0), np.int64(1), np.int64(1), np.int64(0), np.int64(1), np.int64(1), np.int64(1), np.int64(1), np.int64(1), np.int64(1), np.int64(1), np.int64(1), np.int64(0), np.int64(0), np.int64(1), np.int64(1), np.int64(1), np.int64(1), np.int64(1), np.int64(0), np.int64(0), np.int64(1), np.int64(1), np.int64(0), np.int64(0), np.int64(1), np.int64(1), np.int64(1), np.int64(0), np.int64(0), np.int64(1), np.int64(1), np.int64(0), np.int64(0), np.int64(1), np.int64(0), np.int64(1), np.int64(1), np.int64(1), np.int64(0), np.int64(1), np.int64(1), np.int64(0), np.int64(1), np.int64(0), np.int64(0), np.int64(0), np.int64(0), np.int64(0), np.int64(0), np.int64(1), np.int64(1), np.int64(1), np.int64(1), np.int64(1), np.int64(1), np.int64(1), np.int64(1), np.int64(0), np.int64(0), np.int64(1), np.int64(0), np.int64(0), np.int64(1), np.int64(0), np.int64(0), np.int64(1), np.int64(1), np.int64(1), np.int64(0), np.int64(1), np.int64(1), np.int64(0), np.int64(1), np.int64(1), np.int64(0)]\n"
     ]
    }
   ],
   "source": [
    "y_pred_labels=[np.argmax(i) for i in Y_pred]\n",
    "print(y_pred_labels)"
   ]
  },
  {
   "cell_type": "code",
   "execution_count": 133,
   "id": "a7c541b3",
   "metadata": {},
   "outputs": [],
   "source": [
    "##building the predictive system"
   ]
  },
  {
   "cell_type": "code",
   "execution_count": 141,
   "id": "00e9dbc1",
   "metadata": {},
   "outputs": [
    {
     "name": "stderr",
     "output_type": "stream",
     "text": [
      "c:\\Users\\priya\\AppData\\Local\\Programs\\Python\\Python310\\lib\\site-packages\\sklearn\\utils\\validation.py:2749: UserWarning: X does not have valid feature names, but StandardScaler was fitted with feature names\n",
      "  warnings.warn(\n"
     ]
    },
    {
     "name": "stdout",
     "output_type": "stream",
     "text": [
      "\u001b[1m1/1\u001b[0m \u001b[32m━━━━━━━━━━━━━━━━━━━━\u001b[0m\u001b[37m\u001b[0m \u001b[1m0s\u001b[0m 493ms/step\n",
      "[[0.97498006 0.00773585]]\n",
      "[np.int64(0)]\n",
      "The Tumor is Malignant\n"
     ]
    }
   ],
   "source": [
    "input_data=(17.99,\n",
    "10.38,\n",
    "122.8,\n",
    "1001,\n",
    "0.1184,\n",
    "0.2776,\n",
    "0.3001,\n",
    "0.1471,\n",
    "0.2419,\n",
    "0.07871,\n",
    "1.095,\n",
    "0.9053,\n",
    "8.589,\n",
    "153.4,\n",
    "0.006399,\n",
    "0.04904,\n",
    "0.05373,\n",
    "0.01587,\n",
    "0.03003,\n",
    "0.006193,\n",
    "25.38,\n",
    "17.33,\n",
    "184.6,\n",
    "2019,\n",
    "0.1622,\n",
    "0.6656,\n",
    "0.7119,\n",
    "0.2654,\n",
    "0.4601,\n",
    "0.2654\n",
    ")\n",
    "#change the input data into numpy array\n",
    "input_data_as_numpy_array=np.asarray(input_data)\n",
    "##reshape the numpy array as we are predicting for one data point\n",
    "input_data_reshaped = input_data_as_numpy_array.reshape(1,-1)\n",
    "##standarizing the input data\n",
    "input_data_std=scaler.transform(input_data_reshaped)\n",
    "prediction = model.predict(input_data_std)\n",
    "print(prediction)\n",
    "predicition_label=[np.argmax(prediction)]\n",
    "print(predicition_label)\n",
    "if predicition_label[0]==0:\n",
    "    print(\"The Tumor is Malignant\")\n",
    "else:\n",
    "    print(\"The tumor is Benign\")"
   ]
  },
  {
   "cell_type": "code",
   "execution_count": 142,
   "id": "e1c63de6",
   "metadata": {},
   "outputs": [
    {
     "name": "stderr",
     "output_type": "stream",
     "text": [
      "c:\\Users\\priya\\AppData\\Local\\Programs\\Python\\Python310\\lib\\site-packages\\sklearn\\utils\\validation.py:2749: UserWarning: X does not have valid feature names, but StandardScaler was fitted with feature names\n",
      "  warnings.warn(\n"
     ]
    },
    {
     "name": "stdout",
     "output_type": "stream",
     "text": [
      "\u001b[1m1/1\u001b[0m \u001b[32m━━━━━━━━━━━━━━━━━━━━\u001b[0m\u001b[37m\u001b[0m \u001b[1m0s\u001b[0m 315ms/step\n",
      "[[0.35971388 0.8166537 ]]\n",
      "[np.int64(1)]\n",
      "The tumor is Benign\n"
     ]
    }
   ],
   "source": [
    "input_data=(13.54,\n",
    "14.36,\n",
    "87.46,\n",
    "566.3,\n",
    "0.09779,\n",
    "0.08129,\n",
    "0.06664,\n",
    "0.04781,\n",
    "0.1885,\n",
    "0.05766,\n",
    "0.2699,\n",
    "0.7886,\n",
    "2.058,\n",
    "23.56,\n",
    "0.008462,\n",
    "0.0146,\n",
    "0.02387,\n",
    "0.01315,\n",
    "0.0198,\n",
    "0.0023,\n",
    "15.11,\n",
    "19.26,\n",
    "99.7,\n",
    "711.2,\n",
    "0.144,\n",
    "0.1773,\n",
    "0.239,\n",
    "0.1288,\n",
    "0.2977,\n",
    "0.07259\n",
    ")\n",
    "#change the input data into numpy array\n",
    "input_data_as_numpy_array=np.asarray(input_data)\n",
    "##reshape the numpy array as we are predicting for one data point\n",
    "input_data_reshaped = input_data_as_numpy_array.reshape(1,-1)\n",
    "##standarizing the input data\n",
    "input_data_std=scaler.transform(input_data_reshaped)\n",
    "prediction = model.predict(input_data_std)\n",
    "print(prediction)\n",
    "predicition_label=[np.argmax(prediction)]\n",
    "print(predicition_label)\n",
    "if predicition_label[0]==0:\n",
    "    print(\"The Tumor is Malignant\")\n",
    "else:\n",
    "    print(\"The tumor is Benign\")"
   ]
  },
  {
   "cell_type": "code",
   "execution_count": null,
   "id": "7575fdac",
   "metadata": {},
   "outputs": [],
   "source": []
  },
  {
   "cell_type": "code",
   "execution_count": null,
   "id": "019e00b2",
   "metadata": {},
   "outputs": [],
   "source": []
  },
  {
   "cell_type": "code",
   "execution_count": null,
   "id": "0e07be77",
   "metadata": {},
   "outputs": [],
   "source": []
  },
  {
   "cell_type": "code",
   "execution_count": null,
   "id": "76c3ac56",
   "metadata": {},
   "outputs": [],
   "source": []
  },
  {
   "cell_type": "code",
   "execution_count": null,
   "id": "a3fa7661",
   "metadata": {},
   "outputs": [],
   "source": []
  }
 ],
 "metadata": {
  "kernelspec": {
   "display_name": "Python 3",
   "language": "python",
   "name": "python3"
  },
  "language_info": {
   "codemirror_mode": {
    "name": "ipython",
    "version": 3
   },
   "file_extension": ".py",
   "mimetype": "text/x-python",
   "name": "python",
   "nbconvert_exporter": "python",
   "pygments_lexer": "ipython3",
   "version": "3.10.11"
  }
 },
 "nbformat": 4,
 "nbformat_minor": 5
}
